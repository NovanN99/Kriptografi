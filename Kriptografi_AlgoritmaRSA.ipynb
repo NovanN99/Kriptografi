{
  "nbformat": 4,
  "nbformat_minor": 0,
  "metadata": {
    "colab": {
      "name": "Kriptografi_AlgoritmaRSA.ipynb",
      "provenance": [],
      "collapsed_sections": []
    },
    "kernelspec": {
      "name": "python3",
      "display_name": "Python 3"
    },
    "language_info": {
      "name": "python"
    }
  },
  "cells": [
    {
      "cell_type": "code",
      "metadata": {
        "colab": {
          "base_uri": "https://localhost:8080/"
        },
        "id": "ZoPxDsIc8BML",
        "outputId": "3b5ed7f0-255d-43b8-f745-0a1d4df1c2ec"
      },
      "source": [
        "\"\"\"\n",
        "This program implements the RSA  Algoritm for Cryptography,\n",
        "Converting messages of String as number for use with the RSA encryption algoritm\n",
        "and vice versa.\n",
        "\"\"\"\n",
        "\n",
        "import sympy as sy\n",
        "\n",
        "def gdc(a,b):\n",
        "  if b == 0:\n",
        "    return a\n",
        "  else:\n",
        "    return gdc(b, a%b)\n",
        "\n",
        "p = 11\n",
        "q = 17\n",
        "\n",
        "if not sy.isprime(p) or not sy.isprime(q):\n",
        "  raise ValueError(\"p or q is not prime number\")\n",
        "\n",
        "n = p * q #public key 1\n",
        "t = (p - 1) * (q - 1)\n",
        "\n",
        "for e in range(2, t): #public key 2\n",
        "  if gdc(e, t) == 1:\n",
        "    break\n",
        "\n",
        "k = 1\n",
        "while(True):  #private key\n",
        "  if(1 + k * t) % e == 0:\n",
        "    d = int((1 + k * t) / e)\n",
        "    break\n",
        "  k += 1\n",
        "\n",
        "print(\"PUBLIC KEY\")\n",
        "print(\"n = \", n)\n",
        "print(\"e = \", e)\n",
        "print(\"PRIVATE KEY\")\n",
        "print(\"d = \", d)\n",
        "print(\"\")"
      ],
      "execution_count": null,
      "outputs": [
        {
          "output_type": "stream",
          "text": [
            "PUBLIC KEY\n",
            "n =  187\n",
            "e =  3\n",
            "PRIVATE KEY\n",
            "d =  107\n",
            "\n"
          ],
          "name": "stdout"
        }
      ]
    },
    {
      "cell_type": "code",
      "metadata": {
        "colab": {
          "base_uri": "https://localhost:8080/"
        },
        "id": "SPZ3whtX_STV",
        "outputId": "39db82a0-ec36-413e-edb5-8769386cf27e"
      },
      "source": [
        "messages = 123\n",
        "print(\"Messages = \", messages)\n",
        "\n",
        "print(\"ENCRYPTION\")\n",
        "ct = (messages ** e) % n\n",
        "print(\"Encryption Data = \", ct)\n",
        "print(\"\")\n",
        "\n",
        "print(\"DECRYPTION\")\n",
        "pt = (ct ** d) % n\n",
        "print(\"Decryption Data = \", pt)\n",
        "print(\"\")"
      ],
      "execution_count": null,
      "outputs": [
        {
          "output_type": "stream",
          "text": [
            "Messages =  123\n",
            "ENCRYPTION\n",
            "Encryption Data =  30\n",
            "\n",
            "DECRYPTION\n",
            "Decryption Data =  123\n",
            "\n"
          ],
          "name": "stdout"
        }
      ]
    },
    {
      "cell_type": "code",
      "metadata": {
        "id": "7ZBSYsJYAuiO",
        "colab": {
          "base_uri": "https://localhost:8080/",
          "height": 363
        },
        "outputId": "56176ea9-5002-49ab-d5e6-ae59a81a0003"
      },
      "source": [
        "def i2osp(x, x_len):\n",
        "  if x >= 256**x_len:\n",
        "    raise ValueError(\"Integer too Large\") \n",
        "    digits = []\n",
        "\n",
        "    while x:\n",
        "      digits.append(int(x % 256))\n",
        "      x //= 256\n",
        "\n",
        "    for i in range(x_len - len(digits)):\n",
        "      digits.append(0)\n",
        "\n",
        "    res = ''.join(map(chr, digits[::-1]))\n",
        "    return res\n",
        "\n",
        "def os2ip(X):\n",
        "   X = X[::-1]\n",
        "   x = 0\n",
        "   if i in range(len(X)):\n",
        "     x += ord(X[i]) * 256 ** i\n",
        "   return x\n",
        "\n",
        "messages = \"Novan dan Nurrohim bermain bola\"\n",
        "print(\"Text = \", messages)\n",
        "\n",
        "#enkripsi\n",
        "e = os2ip(messages)\n",
        "print(\"Konversi String to Integer : \", e)\n",
        "\n",
        "# dekripsi\n",
        "text_len = len(messages)\n",
        "d = i2osp(e, text_len)\n",
        "print(\"Konversi Integer ro String : \", d)"
      ],
      "execution_count": 30,
      "outputs": [
        {
          "output_type": "stream",
          "text": [
            "Text =  Novan dan Nurrohim bermain bola\n"
          ],
          "name": "stdout"
        },
        {
          "output_type": "error",
          "ename": "NameError",
          "evalue": "ignored",
          "traceback": [
            "\u001b[0;31m---------------------------------------------------------------------------\u001b[0m",
            "\u001b[0;31mNameError\u001b[0m                                 Traceback (most recent call last)",
            "\u001b[0;32m<ipython-input-30-b388f4240603>\u001b[0m in \u001b[0;36m<module>\u001b[0;34m()\u001b[0m\n\u001b[1;32m     25\u001b[0m \u001b[0;34m\u001b[0m\u001b[0m\n\u001b[1;32m     26\u001b[0m \u001b[0;31m#enkripsi\u001b[0m\u001b[0;34m\u001b[0m\u001b[0;34m\u001b[0m\u001b[0;34m\u001b[0m\u001b[0m\n\u001b[0;32m---> 27\u001b[0;31m \u001b[0me\u001b[0m \u001b[0;34m=\u001b[0m \u001b[0mos2ip\u001b[0m\u001b[0;34m(\u001b[0m\u001b[0mmessages\u001b[0m\u001b[0;34m)\u001b[0m\u001b[0;34m\u001b[0m\u001b[0;34m\u001b[0m\u001b[0m\n\u001b[0m\u001b[1;32m     28\u001b[0m \u001b[0mprint\u001b[0m\u001b[0;34m(\u001b[0m\u001b[0;34m\"Konversi String to Integer : \"\u001b[0m\u001b[0;34m,\u001b[0m \u001b[0me\u001b[0m\u001b[0;34m)\u001b[0m\u001b[0;34m\u001b[0m\u001b[0;34m\u001b[0m\u001b[0m\n\u001b[1;32m     29\u001b[0m \u001b[0;34m\u001b[0m\u001b[0m\n",
            "\u001b[0;32m<ipython-input-30-b388f4240603>\u001b[0m in \u001b[0;36mos2ip\u001b[0;34m(X)\u001b[0m\n\u001b[1;32m     17\u001b[0m    \u001b[0mX\u001b[0m \u001b[0;34m=\u001b[0m \u001b[0mX\u001b[0m\u001b[0;34m[\u001b[0m\u001b[0;34m:\u001b[0m\u001b[0;34m:\u001b[0m\u001b[0;34m-\u001b[0m\u001b[0;36m1\u001b[0m\u001b[0;34m]\u001b[0m\u001b[0;34m\u001b[0m\u001b[0;34m\u001b[0m\u001b[0m\n\u001b[1;32m     18\u001b[0m    \u001b[0mx\u001b[0m \u001b[0;34m=\u001b[0m \u001b[0;36m0\u001b[0m\u001b[0;34m\u001b[0m\u001b[0;34m\u001b[0m\u001b[0m\n\u001b[0;32m---> 19\u001b[0;31m    \u001b[0;32mif\u001b[0m \u001b[0mi\u001b[0m \u001b[0;32min\u001b[0m \u001b[0mrange\u001b[0m\u001b[0;34m(\u001b[0m\u001b[0mlen\u001b[0m\u001b[0;34m(\u001b[0m\u001b[0mX\u001b[0m\u001b[0;34m)\u001b[0m\u001b[0;34m)\u001b[0m\u001b[0;34m:\u001b[0m\u001b[0;34m\u001b[0m\u001b[0;34m\u001b[0m\u001b[0m\n\u001b[0m\u001b[1;32m     20\u001b[0m      \u001b[0mx\u001b[0m \u001b[0;34m+=\u001b[0m \u001b[0mord\u001b[0m\u001b[0;34m(\u001b[0m\u001b[0mX\u001b[0m\u001b[0;34m[\u001b[0m\u001b[0mi\u001b[0m\u001b[0;34m]\u001b[0m\u001b[0;34m)\u001b[0m \u001b[0;34m*\u001b[0m \u001b[0;36m256\u001b[0m \u001b[0;34m**\u001b[0m \u001b[0mi\u001b[0m\u001b[0;34m\u001b[0m\u001b[0;34m\u001b[0m\u001b[0m\n\u001b[1;32m     21\u001b[0m    \u001b[0;32mreturn\u001b[0m \u001b[0mx\u001b[0m\u001b[0;34m\u001b[0m\u001b[0;34m\u001b[0m\u001b[0m\n",
            "\u001b[0;31mNameError\u001b[0m: name 'i' is not defined"
          ]
        }
      ]
    },
    {
      "cell_type": "code",
      "metadata": {
        "id": "o0kRQgfLniws"
      },
      "source": [
        "import sympy as sy\n",
        "\n",
        "def gcd(a, b):\n",
        "  if b == 0:\n",
        "    return a\n",
        "  else :\n",
        "    return gcd(a, a%b)\n",
        "\n",
        "def convert_ascii(X):\n",
        "  if isinstance(X, str):\n",
        "    x = ord(X)\n",
        "    if(x < 97 or x > 122):\n",
        "      x = 0\n",
        "    else:\n",
        "      x -= 96\n",
        "  elif isinstance(X, int):\n",
        "    x = X\n",
        "    if (x == 0):\n",
        "      x += 32\n",
        "    else:\n",
        "      x += 96\n",
        "    x = chr(x)\n",
        "  return x\n",
        "\n",
        "def i2osp(x, x_len):\n",
        "  if x >= 27 ** x_len:\n",
        "      raise ValueError(\"Integer too Large\")\n",
        "  digits = []\n",
        "\n",
        "  while x:\n",
        "    digits.append(int(x % 27))\n",
        "    x //= 27\n",
        "  \n",
        "  for i in range(x_len - len(digits)):\n",
        "    digits.append(0)\n",
        "  digits = digits[::-1]\n",
        "  block_text = []\n",
        "\n",
        "  for i in range(x_len):\n",
        "    block_text.append(convert_ascii(digits[i]))\n",
        "  return \"\".join(block_text)\n",
        "\n",
        "def os2ip(X):\n",
        "  X = X[::-1]\n",
        "  x = 0\n",
        "  for i in range(len(X)):\n",
        "    x += convert_ascii(X[i]) * 27 ** i\n",
        "  return x\n",
        "\n",
        "def encrypt(m):\n",
        "  print(\"[ENCRYPTION]\")\n",
        "  m = m.lower()\n",
        "  c = []\n",
        "  blocks = ([m[i : i + BLOCK_LENGTH] for i in range(0, len(m), BLOCK_LENGTH)])\n",
        "  print(blocks)\n",
        "  for i in blocks:\n",
        "    converted_block = os2ip(i)\n",
        "    print(converted_block, end=\", \")\n",
        "    c.append((converted_block ** e) % n)\n",
        "  print(\"\")\n",
        "  return c\n",
        "\n",
        "def decrypt(c):\n",
        "  print(\"[DECRYPTION]\")\n",
        "  block_text = []\n",
        "  for i in c:\n",
        "    block = (i ** d) % n\n",
        "    print(block, end=\", \")\n",
        "    block_text.append(i2osp(block, BLOCK_LENGTH))\n",
        "    print(\"\")\n",
        "  m = \"\".join(block_text)\n",
        "  return m"
      ],
      "execution_count": 21,
      "outputs": []
    },
    {
      "cell_type": "code",
      "metadata": {
        "colab": {
          "base_uri": "https://localhost:8080/"
        },
        "id": "NGtaMrgybooE",
        "outputId": "b17a6b2e-d8e9-4c7b-d2ce-b3b42424add1"
      },
      "source": [
        "BLOCK_LENGTH = 3\n",
        "p = 173\n",
        "q = 149\n",
        "if not sy.isprime(p) or not sy.isprime(q):\n",
        "  raise ValueError(\"p or q is not prime number\")\n",
        "\n",
        "n = p * q\n",
        "t = (p - 1) * (q - 1)\n",
        "\n",
        "for e in range(2, t):\n",
        "  if gcd(e, t) == 1:\n",
        "    break\n",
        "\n",
        "k = 1\n",
        "while(True):\n",
        "  if (1 + k * t) % e == 0:\n",
        "    d = int((1 + k * t) / e)\n",
        "    break\n",
        "  k += 1\n",
        "\n",
        "print(\"[PUBLIC KEY]\")\n",
        "print(\"n = \", n)\n",
        "print(\"e = \", e)\n",
        "print(\"[PRIVATE KEY]\")\n",
        "print(\"d = \", d)\n",
        "print(\"\")\n",
        "\n",
        "messages = \"Kupingku loro, Irungku siji\"\n",
        "print(\"Messages = \", messages)\n",
        "print(\"\")"
      ],
      "execution_count": 9,
      "outputs": [
        {
          "output_type": "stream",
          "text": [
            "[PUBLIC KEY]\n",
            "n =  25777\n",
            "e =  25455\n",
            "[PRIVATE KEY]\n",
            "d =  25455\n",
            "\n",
            "Messages =  Kupingku loro, Irungku siji\n",
            "\n"
          ],
          "name": "stdout"
        }
      ]
    },
    {
      "cell_type": "code",
      "metadata": {
        "colab": {
          "base_uri": "https://localhost:8080/"
        },
        "id": "CZHMF8LffSGd",
        "outputId": "71a3b7dc-6833-4b9c-ae56-5147e9b1cb96"
      },
      "source": [
        "#Encryption\n",
        "chiper_text = encrypt(messages)\n",
        "print(\"Chiperteks = \", chiper_text)\n",
        "print(\"\")"
      ],
      "execution_count": 14,
      "outputs": [
        {
          "output_type": "stream",
          "text": [
            "[ENCRYPTION]\n",
            "['kup', 'ing', 'ku ', 'lor', 'o, ', 'iru', 'ngk', 'u s', 'iji']\n",
            "8602, 6946, 8586, 9171, 10935, 7068, 10406, 15328, 6840, \n",
            "Chiperteks =  [7111, 6075, 12210, 24307, 6723, 18421, 18358, 6752, 7865]\n",
            "\n"
          ],
          "name": "stdout"
        }
      ]
    },
    {
      "cell_type": "code",
      "metadata": {
        "colab": {
          "base_uri": "https://localhost:8080/",
          "height": 346
        },
        "id": "EKfNBhHcff48",
        "outputId": "10cd649f-fa07-4efe-8465-679bdddad61b"
      },
      "source": [
        "#Encryption\n",
        "chiper_text = decrypt(messages)\n",
        "print(\"Plainteks = \", plaint_text)\n",
        "print(\"\")"
      ],
      "execution_count": 22,
      "outputs": [
        {
          "output_type": "stream",
          "text": [
            "[DECRYPTION]\n"
          ],
          "name": "stdout"
        },
        {
          "output_type": "error",
          "ename": "TypeError",
          "evalue": "ignored",
          "traceback": [
            "\u001b[0;31m---------------------------------------------------------------------------\u001b[0m",
            "\u001b[0;31mTypeError\u001b[0m                                 Traceback (most recent call last)",
            "\u001b[0;32m<ipython-input-22-6fef2286f53e>\u001b[0m in \u001b[0;36m<module>\u001b[0;34m()\u001b[0m\n\u001b[1;32m      1\u001b[0m \u001b[0;31m#Encryption\u001b[0m\u001b[0;34m\u001b[0m\u001b[0;34m\u001b[0m\u001b[0;34m\u001b[0m\u001b[0m\n\u001b[0;32m----> 2\u001b[0;31m \u001b[0mchiper_text\u001b[0m \u001b[0;34m=\u001b[0m \u001b[0mdecrypt\u001b[0m\u001b[0;34m(\u001b[0m\u001b[0mmessages\u001b[0m\u001b[0;34m)\u001b[0m\u001b[0;34m\u001b[0m\u001b[0;34m\u001b[0m\u001b[0m\n\u001b[0m\u001b[1;32m      3\u001b[0m \u001b[0mprint\u001b[0m\u001b[0;34m(\u001b[0m\u001b[0;34m\"Plainteks = \"\u001b[0m\u001b[0;34m,\u001b[0m \u001b[0mplaint_text\u001b[0m\u001b[0;34m)\u001b[0m\u001b[0;34m\u001b[0m\u001b[0;34m\u001b[0m\u001b[0m\n\u001b[1;32m      4\u001b[0m \u001b[0mprint\u001b[0m\u001b[0;34m(\u001b[0m\u001b[0;34m\"\"\u001b[0m\u001b[0;34m)\u001b[0m\u001b[0;34m\u001b[0m\u001b[0;34m\u001b[0m\u001b[0m\n",
            "\u001b[0;32m<ipython-input-21-189825052adf>\u001b[0m in \u001b[0;36mdecrypt\u001b[0;34m(c)\u001b[0m\n\u001b[1;32m     65\u001b[0m   \u001b[0mblock_text\u001b[0m \u001b[0;34m=\u001b[0m \u001b[0;34m[\u001b[0m\u001b[0;34m]\u001b[0m\u001b[0;34m\u001b[0m\u001b[0;34m\u001b[0m\u001b[0m\n\u001b[1;32m     66\u001b[0m   \u001b[0;32mfor\u001b[0m \u001b[0mi\u001b[0m \u001b[0;32min\u001b[0m \u001b[0mc\u001b[0m\u001b[0;34m:\u001b[0m\u001b[0;34m\u001b[0m\u001b[0;34m\u001b[0m\u001b[0m\n\u001b[0;32m---> 67\u001b[0;31m     \u001b[0mblock\u001b[0m \u001b[0;34m=\u001b[0m \u001b[0;34m(\u001b[0m\u001b[0mi\u001b[0m \u001b[0;34m**\u001b[0m \u001b[0md\u001b[0m\u001b[0;34m)\u001b[0m \u001b[0;34m%\u001b[0m \u001b[0mn\u001b[0m\u001b[0;34m\u001b[0m\u001b[0;34m\u001b[0m\u001b[0m\n\u001b[0m\u001b[1;32m     68\u001b[0m     \u001b[0mprint\u001b[0m\u001b[0;34m(\u001b[0m\u001b[0mblock\u001b[0m\u001b[0;34m,\u001b[0m \u001b[0mend\u001b[0m\u001b[0;34m=\u001b[0m\u001b[0;34m\", \"\u001b[0m\u001b[0;34m)\u001b[0m\u001b[0;34m\u001b[0m\u001b[0;34m\u001b[0m\u001b[0m\n\u001b[1;32m     69\u001b[0m     \u001b[0mblock_text\u001b[0m\u001b[0;34m.\u001b[0m\u001b[0mappend\u001b[0m\u001b[0;34m(\u001b[0m\u001b[0mi2osp\u001b[0m\u001b[0;34m(\u001b[0m\u001b[0mblock\u001b[0m\u001b[0;34m,\u001b[0m \u001b[0mBLOCK_LENGTH\u001b[0m\u001b[0;34m)\u001b[0m\u001b[0;34m)\u001b[0m\u001b[0;34m\u001b[0m\u001b[0;34m\u001b[0m\u001b[0m\n",
            "\u001b[0;31mTypeError\u001b[0m: unsupported operand type(s) for ** or pow(): 'str' and 'int'"
          ]
        }
      ]
    }
  ]
}